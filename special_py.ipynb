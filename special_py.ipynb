{
  "nbformat": 4,
  "nbformat_minor": 0,
  "metadata": {
    "colab": {
      "provenance": [],
      "authorship_tag": "ABX9TyOpK6y3237Uxs7YRCxC6Dsl",
      "include_colab_link": true
    },
    "kernelspec": {
      "name": "python3",
      "display_name": "Python 3"
    },
    "language_info": {
      "name": "python"
    }
  },
  "cells": [
    {
      "cell_type": "markdown",
      "metadata": {
        "id": "view-in-github",
        "colab_type": "text"
      },
      "source": [
        "<a href=\"https://colab.research.google.com/github/aruba2105/my-colab-proj/blob/main/special_py.ipynb\" target=\"_parent\"><img src=\"https://colab.research.google.com/assets/colab-badge.svg\" alt=\"Open In Colab\"/></a>"
      ]
    },
    {
      "cell_type": "code",
      "source": [
        "def special_cipher(s, k):\n",
        "    def caesar(c):\n",
        "        return chr((ord(c) - ord('A') + k) % 26 + ord('A'))\n",
        "\n",
        "    encrypted = ''.join(caesar(c) for c in s)\n",
        "\n",
        "    result = []\n",
        "    i = 0\n",
        "    while i < len(encrypted):\n",
        "        count = 1\n",
        "        while i + 1 < len(encrypted) and encrypted[i] == encrypted[i + 1]:\n",
        "            i += 1\n",
        "            count += 1\n",
        "        result.append(encrypted[i])\n",
        "        if count > 1:\n",
        "            result.append(str(count))\n",
        "        i += 1\n",
        "\n",
        "    return ''.join(result)\n",
        "\n",
        "print(\"Output:\", special_cipher(\"AABCCC\", 3))\n"
      ],
      "metadata": {
        "colab": {
          "base_uri": "https://localhost:8080/"
        },
        "id": "VksJEcgFwW71",
        "outputId": "41a2ded4-45b1-420a-a312-cd939fb4c305"
      },
      "execution_count": 20,
      "outputs": [
        {
          "output_type": "stream",
          "name": "stdout",
          "text": [
            "Output: D2EF3\n"
          ]
        }
      ]
    },
    {
      "cell_type": "code",
      "source": [
        "def min_units_to_make_value(target, units):\n",
        "    min_units = [float('inf')] * (target + 1)\n",
        "    min_units[0] = 0\n",
        "\n",
        "    for unit in units:\n",
        "        for value in range(unit, target + 1):\n",
        "            min_units[value] = min(min_units[value], min_units[value - unit] + 1)\n",
        "\n",
        "    return min_units\n",
        "\n",
        "def main():\n",
        "    units = [1, 2, 5, 10, 20, 50]\n",
        "    target = 99\n",
        "    min_units = min_units_to_make_value(target, units)\n",
        "\n",
        "\n",
        "    total_units_used = 0\n",
        "    count = 0\n",
        "\n",
        "    for value in range(1, target + 1):\n",
        "        if min_units[value] <= 6:\n",
        "            total_units_used += min_units[value]\n",
        "            count += 1\n",
        "            print(f\"{value}: {min_units[value]} (units used)\")\n",
        "\n",
        "    if count > 0:\n",
        "        average_units = total_units_used / count\n",
        "        print(f\"AVG of units = {average_units:.1f}\")\n",
        "    else:\n",
        "        print(\"No values can be made with 6 or fewer units.\")\n",
        "\n",
        "if __name__ == \"__main__\":\n",
        "    main()\n"
      ],
      "metadata": {
        "colab": {
          "base_uri": "https://localhost:8080/"
        },
        "id": "1_6vtfq-wiuF",
        "outputId": "77e8a422-804a-4c1c-c2f5-652acf6efad3"
      },
      "execution_count": 21,
      "outputs": [
        {
          "output_type": "stream",
          "name": "stdout",
          "text": [
            "1: 1 (units used)\n",
            "2: 1 (units used)\n",
            "3: 2 (units used)\n",
            "4: 2 (units used)\n",
            "5: 1 (units used)\n",
            "6: 2 (units used)\n",
            "7: 2 (units used)\n",
            "8: 3 (units used)\n",
            "9: 3 (units used)\n",
            "10: 1 (units used)\n",
            "11: 2 (units used)\n",
            "12: 2 (units used)\n",
            "13: 3 (units used)\n",
            "14: 3 (units used)\n",
            "15: 2 (units used)\n",
            "16: 3 (units used)\n",
            "17: 3 (units used)\n",
            "18: 4 (units used)\n",
            "19: 4 (units used)\n",
            "20: 1 (units used)\n",
            "21: 2 (units used)\n",
            "22: 2 (units used)\n",
            "23: 3 (units used)\n",
            "24: 3 (units used)\n",
            "25: 2 (units used)\n",
            "26: 3 (units used)\n",
            "27: 3 (units used)\n",
            "28: 4 (units used)\n",
            "29: 4 (units used)\n",
            "30: 2 (units used)\n",
            "31: 3 (units used)\n",
            "32: 3 (units used)\n",
            "33: 4 (units used)\n",
            "34: 4 (units used)\n",
            "35: 3 (units used)\n",
            "36: 4 (units used)\n",
            "37: 4 (units used)\n",
            "38: 5 (units used)\n",
            "39: 5 (units used)\n",
            "40: 2 (units used)\n",
            "41: 3 (units used)\n",
            "42: 3 (units used)\n",
            "43: 4 (units used)\n",
            "44: 4 (units used)\n",
            "45: 3 (units used)\n",
            "46: 4 (units used)\n",
            "47: 4 (units used)\n",
            "48: 5 (units used)\n",
            "49: 5 (units used)\n",
            "50: 1 (units used)\n",
            "51: 2 (units used)\n",
            "52: 2 (units used)\n",
            "53: 3 (units used)\n",
            "54: 3 (units used)\n",
            "55: 2 (units used)\n",
            "56: 3 (units used)\n",
            "57: 3 (units used)\n",
            "58: 4 (units used)\n",
            "59: 4 (units used)\n",
            "60: 2 (units used)\n",
            "61: 3 (units used)\n",
            "62: 3 (units used)\n",
            "63: 4 (units used)\n",
            "64: 4 (units used)\n",
            "65: 3 (units used)\n",
            "66: 4 (units used)\n",
            "67: 4 (units used)\n",
            "68: 5 (units used)\n",
            "69: 5 (units used)\n",
            "70: 2 (units used)\n",
            "71: 3 (units used)\n",
            "72: 3 (units used)\n",
            "73: 4 (units used)\n",
            "74: 4 (units used)\n",
            "75: 3 (units used)\n",
            "76: 4 (units used)\n",
            "77: 4 (units used)\n",
            "78: 5 (units used)\n",
            "79: 5 (units used)\n",
            "80: 3 (units used)\n",
            "81: 4 (units used)\n",
            "82: 4 (units used)\n",
            "83: 5 (units used)\n",
            "84: 5 (units used)\n",
            "85: 4 (units used)\n",
            "86: 5 (units used)\n",
            "87: 5 (units used)\n",
            "88: 6 (units used)\n",
            "89: 6 (units used)\n",
            "90: 3 (units used)\n",
            "91: 4 (units used)\n",
            "92: 4 (units used)\n",
            "93: 5 (units used)\n",
            "94: 5 (units used)\n",
            "95: 4 (units used)\n",
            "96: 5 (units used)\n",
            "97: 5 (units used)\n",
            "98: 6 (units used)\n",
            "99: 6 (units used)\n",
            "AVG of units = 3.4\n"
          ]
        }
      ]
    }
  ]
}